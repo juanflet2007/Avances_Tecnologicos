{
 "cells": [
  {
   "cell_type": "markdown",
   "id": "cdc8c036",
   "metadata": {},
   "source": [
    "📌 Librerías vs Frameworks en programación\n",
    "🔹 Librerías\n",
    "Una librería es un conjunto de funciones y herramientas reutilizables que facilitan tareas específicas en un lenguaje de programación. Los desarrolladores pueden elegir cuándo y cómo usarlas en su código.\n",
    "\n",
    "✅ Ejemplo:\n",
    "- NumPy → Para cálculos matemáticos en Python.\n",
    "- Pandas → Para manipulación de datos.\n",
    "- Matplotlib → Para visualización de gráficos.\n",
    "\n",
    "🔸 Cómo se usa una librería en Python:"
   ]
  },
  {
   "cell_type": "code",
   "execution_count": null,
   "id": "c3308202",
   "metadata": {},
   "outputs": [],
   "source": [
    "import numpy as np\n",
    "array = np.array([1, 2, 3])\n",
    "print(array)  # Salida: [1 2 3]"
   ]
  },
  {
   "cell_type": "markdown",
   "id": "eab4f663",
   "metadata": {},
   "source": [
    "Aquí decides cómo usar la librería sin seguir un flujo predefinido."
   ]
  },
  {
   "cell_type": "markdown",
   "id": "a123b4bd",
   "metadata": {},
   "source": [
    "🔹 Frameworks\n",
    "Un framework es un conjunto más estructurado que proporciona reglas y arquitectura base para desarrollar aplicaciones. Impone un flujo de trabajo y facilita la organización del código.\n",
    "✅ Ejemplo:\n",
    "- Django → Para desarrollo web con Python.\n",
    "- TensorFlow → Para machine learning.\n",
    "- Flask → Para aplicaciones web ligeras en Python.\n",
    "🔸 Cómo se usa un framework en Python (Ejemplo con Flask):"
   ]
  },
  {
   "cell_type": "code",
   "execution_count": null,
   "id": "a9a593ea",
   "metadata": {},
   "outputs": [],
   "source": [
    "from flask import Flask\n",
    "\n",
    "app = Flask(__name__)\n",
    "\n",
    "@app.route(\"/\")\n",
    "def home():\n",
    "    return \"¡Hola desde Flask!\"\n",
    "\n",
    "if __name__ == \"__main__\":\n",
    "    app.run(debug=True)"
   ]
  },
  {
   "cell_type": "markdown",
   "id": "c43bd92c",
   "metadata": {},
   "source": [
    "Aquí sigues las reglas del framework para definir rutas y ejecución."
   ]
  },
  {
   "cell_type": "markdown",
   "id": "1ee14480",
   "metadata": {},
   "source": [
    "💡 Diferencias clave\n",
    "\n",
    "| Característica | Librería 📚 | Framework 🏗️ | \n",
    "\n",
    "| Control | Lo usas libremente | Sigue una estructura definida |\n",
    "\n",
    "| Flexibilidad | Total, puedes elegir funciones | Menos flexible, impone reglas | \n",
    "\n",
    "| Propósito | Resolver tareas específicas | Crear aplicaciones completas | "
   ]
  },
  {
   "cell_type": "markdown",
   "id": "b441a53e",
   "metadata": {},
   "source": [
    "📌 Cómo trabajar con librerías y frameworks en desarrollo\n",
    "🔹 Trabajo con Librerías\n",
    "Las librerías ofrecen funciones reutilizables que puedes integrar en tu código sin necesidad de seguir una estructura definida. Se instalan y usan de manera modular.\n",
    "\n",
    "✅ Pasos para trabajar con una librería en Python:\n",
    "\n",
    "1️⃣ Instalar la librería:\n",
    "\n",
    "pip install pandas\n",
    "\n",
    "2️⃣ Importarla en el proyecto:"
   ]
  },
  {
   "cell_type": "code",
   "execution_count": null,
   "id": "2d0f9e76",
   "metadata": {},
   "outputs": [],
   "source": [
    "import pandas as pd"
   ]
  },
  {
   "cell_type": "markdown",
   "id": "1ef59f39",
   "metadata": {},
   "source": [
    "3️⃣ Usar sus funciones según necesites:"
   ]
  },
  {
   "cell_type": "code",
   "execution_count": null,
   "id": "2a0b462e",
   "metadata": {},
   "outputs": [],
   "source": [
    "df = pd.DataFrame({\"Nombre\": [\"Ana\", \"Carlos\"], \"Edad\": [25, 30]})\n",
    "print(df) "
   ]
  },
  {
   "cell_type": "markdown",
   "id": "d2632b67",
   "metadata": {},
   "source": [
    "💡 Control total: Puedes decidir qué funciones usar sin seguir un patrón fijo.\n",
    "\n",
    "🔸 Trabajo con Frameworks\n",
    "\n",
    "Los frameworks tienen reglas y estructuras predefinidas que organizan el código. Siguen un flujo de trabajo y suelen incluir herramientas integradas.\n",
    "\n",
    "✅ Pasos para trabajar con un framework en Django (Python):\n",
    "\n",
    "1️⃣ Instalar Django:\n",
    "\n",
    "pip install django\n",
    "\n",
    "\n",
    "2️⃣ Crear un proyecto con su estructura:\n",
    "\n",
    "django-admin startproject mi_proyecto\n",
    "\n",
    "3️⃣ Definir aplicaciones y modelos siguiendo las reglas del framework:"
   ]
  },
  {
   "cell_type": "code",
   "execution_count": null,
   "id": "07184475",
   "metadata": {},
   "outputs": [],
   "source": [
    "from django.db import models\n",
    "\n",
    "class Persona(models.Model):\n",
    "    nombre = models.CharField(max_length=100)\n",
    "    edad = models.IntegerField()"
   ]
  },
  {
   "cell_type": "markdown",
   "id": "e3e6a454",
   "metadata": {},
   "source": [
    "💡 Menos flexibilidad, pero más organización: Sigues convenciones establecidas.\n",
    "\n",
    "💡 Diferencias en la forma de trabajar\n",
    "\n",
    "| Aspecto | Librería 📚 | Framework 🏗️ | \n",
    "\n",
    "| Control | Uso libre de funciones | Sigue una estructura predefinida | \n",
    "\n",
    "| Flexibilidad | Alta, puedes combinar varias | Menos flexible, con reglas establecidas | \n",
    "\n",
    "| Complejidad | Más sencillo de integrar | Puede requerir configuración inicial | "
   ]
  },
  {
   "cell_type": "markdown",
   "id": "e9d17c6c",
   "metadata": {},
   "source": [
    "📌 Librerías vs Frameworks en Frontend y Backend\n",
    "🔹 Librerías en Frontend y Backend\n",
    "Las librerías son conjuntos de funciones reutilizables que los desarrolladores pueden usar según sus necesidades, sin seguir una estructura predefinida.\n",
    "\n",
    "✅ Ejemplo en Frontend\n",
    "- React.js → Biblioteca para construir interfaces interactivas en JavaScript.\n",
    "- Three.js → Para gráficos 3D en la web.\n",
    "- Chart.js → Para visualización de datos con gráficos dinámicos.\n",
    "\n",
    "🔸 Ejemplo con React:"
   ]
  },
  {
   "cell_type": "code",
   "execution_count": null,
   "id": "ed955022",
   "metadata": {},
   "outputs": [],
   "source": [
    "import React from 'react';\n",
    "\n",
    "function App() {\n",
    "    return <h1>¡Hola desde React!</h1>;\n",
    "}\n",
    "\n",
    "export default App;"
   ]
  },
  {
   "cell_type": "markdown",
   "id": "0067df43",
   "metadata": {},
   "source": [
    "Aquí el desarrollador decide cómo estructurar la aplicación sin seguir un patrón fijo.\n",
    "\n",
    "✅ Ejemplo en Backend\n",
    "- Express.js → Simplifica el manejo de servidores en Node.js.\n",
    "- SQLAlchemy → Para interactuar con bases de datos en Python.\n",
    "- Requests → Para hacer peticiones HTTP en Python.\n",
    "\n",
    "🔸 Ejemplo con Express.js:"
   ]
  },
  {
   "cell_type": "code",
   "execution_count": null,
   "id": "bb945ace",
   "metadata": {},
   "outputs": [],
   "source": [
    "const express = require('express');\n",
    "const app = express();\n",
    "\n",
    "app.get('/', (req, res) => res.send('¡Hola desde Express!'));\n",
    "\n",
    "app.listen(3000, () => console.log('Servidor en ejecución'));"
   ]
  },
  {
   "cell_type": "markdown",
   "id": "c0926b10",
   "metadata": {},
   "source": [
    "Aquí se usa Express para manejar rutas sin imponer una estructura completa."
   ]
  },
  {
   "cell_type": "markdown",
   "id": "31593a5d",
   "metadata": {},
   "source": [
    "🔸 Frameworks en Frontend y Backend\n",
    "Los frameworks ofrecen una arquitectura y reglas predefinidas para el desarrollo, facilitando la organización del código.\n",
    "\n",
    "✅ Ejemplo en Frontend\n",
    "- Angular → Framework completo para aplicaciones web en JavaScript/TypeScript.\n",
    "- Vue.js → Alternativa flexible para desarrollo UI estructurado.\n",
    "- Bootstrap → Framework de diseño para maquetación y estilos.\n",
    "\n",
    "🔸 Ejemplo con Angular:"
   ]
  },
  {
   "cell_type": "code",
   "execution_count": null,
   "id": "29cea014",
   "metadata": {},
   "outputs": [],
   "source": [
    "import { Component } from '@angular/core';\n",
    "\n",
    "@Component({\n",
    "  selector: 'app-root',\n",
    "  template: '<h1>¡Hola desde Angular!</h1>',\n",
    "})\n",
    "export class AppComponent {}"
   ]
  },
  {
   "cell_type": "markdown",
   "id": "17fc0f84",
   "metadata": {},
   "source": [
    "Aquí Angular impone una estructura basada en componentes.\n",
    "\n",
    "✅ Ejemplo en Backend\n",
    "- Django → Framework completo para desarrollo web con Python.\n",
    "- Spring Boot → Para aplicaciones empresariales en Java.\n",
    "- Flask → Más ligero, pero con estructura definida para aplicaciones en Python.\n",
    "\n",
    "🔸 Ejemplo con Django:"
   ]
  },
  {
   "cell_type": "code",
   "execution_count": null,
   "id": "533185ba",
   "metadata": {},
   "outputs": [],
   "source": [
    "from django.http import HttpResponse\n",
    "\n",
    "def home(request):\n",
    "    return HttpResponse(\"¡Hola desde Django!\")\n"
   ]
  },
  {
   "cell_type": "markdown",
   "id": "84060b35",
   "metadata": {},
   "source": [
    "Django define convenciones para manejar solicitudes HTTP y estructuras preconfiguradas.\n",
    "\n",
    "💡 Diferencias clave\n",
    "\n",
    "| Característica | Librería 📚 | Framework 🏗️ | \n",
    "\n",
    "| Control | El desarrollador decide cómo usarlo | Sigue una estructura predefinida | \n",
    "\n",
    "| Flexibilidad | Alta, se usa según necesidades | Menos flexible, define reglas de uso | \n",
    "\n",
    "| Propósito | Resuelve tareas específicas | Facilita el desarrollo de aplicaciones completas | "
   ]
  }
 ],
 "metadata": {
  "language_info": {
   "name": "python"
  }
 },
 "nbformat": 4,
 "nbformat_minor": 5
}

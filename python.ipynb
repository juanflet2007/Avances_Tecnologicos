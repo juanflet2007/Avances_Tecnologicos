{
 "cells": [
  {
   "cell_type": "markdown",
   "id": "e8d617c7",
   "metadata": {},
   "source": [
    "¿Que es Python?\n",
    "Python es un lenguaje de programación de alto nivel, dinámico y fácil de aprender, diseñado para ser legible y eficiente. Es ampliamente utilizado en áreas como desarrollo web, ciencia de datos, inteligencia artificial y automatización.\n",
    "Características principales:\n",
    "- Sintaxis clara 📝 → Código fácil de leer y escribir.\n",
    "- Multiplataforma 🌍 → Funciona en Windows, macOS y Linux.\n",
    "- Extensa biblioteca estándar 📚 → Incluye herramientas para matemáticas, manejo de archivos y más.\n",
    "- Orientado a objetos y funcional 🎭 → Permite distintos paradigmas de programación.\n",
    "Ejemplo básico en Python\n",
    "Si quieres imprimir un mensaje en la pantalla, puedes hacer:\n"
   ]
  },
  {
   "cell_type": "code",
   "execution_count": null,
   "id": "4bf5f82f",
   "metadata": {},
   "outputs": [],
   "source": [
    "print(\"¡Hola, Python!\")\n",
    "#Salida\n",
    "# ¡Hola, Python!"
   ]
  },
  {
   "cell_type": "markdown",
   "id": "778e0854",
   "metadata": {},
   "source": [
    "1️⃣ Operadores en Python\n",
    "Python cuenta con distintos tipos de operadores:\n",
    "\n",
    "✔️ Aritméticos (+, -, *, /, //, %, **):"
   ]
  },
  {
   "cell_type": "code",
   "execution_count": null,
   "id": "878aff1c",
   "metadata": {},
   "outputs": [],
   "source": [
    "a = 10\n",
    "b = 3\n",
    "print(a + b)  # Suma → 13\n",
    "print(a ** b) # Potencia → 1000"
   ]
  },
  {
   "cell_type": "markdown",
   "id": "285ad44d",
   "metadata": {},
   "source": [
    "✔️ Comparación (==, !=, >, <, >=, <=):"
   ]
  },
  {
   "cell_type": "code",
   "execution_count": null,
   "id": "68f2d43b",
   "metadata": {},
   "outputs": [],
   "source": [
    "print(5 > 3)  # True\n",
    "print(7 == 5) # False"
   ]
  },
  {
   "cell_type": "markdown",
   "id": "42966d1f",
   "metadata": {},
   "source": [
    "✔️ Lógicos (and, or, not)\n"
   ]
  },
  {
   "cell_type": "code",
   "execution_count": null,
   "id": "ec2173f0",
   "metadata": {},
   "outputs": [],
   "source": [
    "x = True\n",
    "y = False\n",
    "print(x and y) # False\n",
    "print(x or y)  # True\n",
    "print(not x)   # False"
   ]
  },
  {
   "cell_type": "markdown",
   "id": "921bbe2b",
   "metadata": {},
   "source": [
    "2️⃣ Estructuras de Control\n",
    "Son esenciales para el flujo de ejecución:\n",
    "\n",
    "✔️ Condicionales (if, elif, else):\n"
   ]
  },
  {
   "cell_type": "code",
   "execution_count": null,
   "id": "0d27eb71",
   "metadata": {},
   "outputs": [],
   "source": [
    "edad = 20\n",
    "\n",
    "if edad >= 18:\n",
    "    print(\"Eres mayor de edad\")\n",
    "else:\n",
    "    print(\"Eres menor de edad\")"
   ]
  },
  {
   "cell_type": "markdown",
   "id": "775b2b14",
   "metadata": {},
   "source": [
    "✔️ Bucles (for, while):"
   ]
  },
  {
   "cell_type": "code",
   "execution_count": null,
   "id": "1c7295d4",
   "metadata": {},
   "outputs": [],
   "source": [
    "# Bucle for\n",
    "for i in range(5):\n",
    "    print(i)  # 0, 1, 2, 3, 4\n",
    "\n",
    "# Bucle while\n",
    "contador = 0\n",
    "while contador < 5:\n",
    "    print(contador)\n",
    "    contador += 1"
   ]
  },
  {
   "cell_type": "markdown",
   "id": "a88cf36c",
   "metadata": {},
   "source": [
    "3️⃣ Programación Orientada a Objetos (POO)\n",
    "\n",
    "Python admite objetos y clases, lo que permite estructurar el código de manera modular y reutilizable.\n",
    "\n",
    "✔️ Definiendo una clase y creando objetos:"
   ]
  },
  {
   "cell_type": "code",
   "execution_count": null,
   "id": "642dc60e",
   "metadata": {},
   "outputs": [],
   "source": [
    "class Persona:\n",
    "    def __init__(self, nombre, edad):\n",
    "        self.nombre = nombre\n",
    "        self.edad = edad\n",
    "\n",
    "    def presentarse(self):\n",
    "        print(f\"Hola, soy {self.nombre} y tengo {self.edad} años.\")\n",
    "        # Crear una instancia de la clase\n",
    "persona1 = Persona(\"Ana\", 25)\n",
    "persona1.presentarse()  # Salida: Hola, soy Ana y tengo 25 años."
   ]
  },
  {
   "cell_type": "markdown",
   "id": "e0646aed",
   "metadata": {},
   "source": [
    "✅ POO permite encapsulación, herencia y polimorfismo, lo que hace que los programas sean más estructurados y fáciles de mantener.\n"
   ]
  }
 ],
 "metadata": {
  "kernelspec": {
   "display_name": "Python 3",
   "language": "python",
   "name": "python3"
  },
  "language_info": {
   "codemirror_mode": {
    "name": "ipython",
    "version": 3
   },
   "file_extension": ".py",
   "mimetype": "text/x-python",
   "name": "python",
   "nbconvert_exporter": "python",
   "pygments_lexer": "ipython3",
   "version": "3.11.9"
  }
 },
 "nbformat": 4,
 "nbformat_minor": 5
}

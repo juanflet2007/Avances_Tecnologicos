{
 "cells": [
  {
   "cell_type": "markdown",
   "id": "9bbbab96",
   "metadata": {},
   "source": [
    "¿Que es GIT?\n",
    "Git es un sistema de control de versiones distribuido que permite a los desarrolladores rastrear cambios en su código, colaborar con otros y mantener un historial de modificaciones. Se usa comúnmente en desarrollo de software para gestionar proyectos de cualquier tamaño.\n",
    "Algunas características clave de Git:\n",
    "- Historial completo: Cada cambio en un archivo se guarda, lo que permite volver a versiones anteriores fácilmente.\n",
    "- Distribución: No depende de un servidor central; cada usuario tiene una copia completa del repositorio.\n",
    "- Ramas y fusiones: Se pueden crear ramas para trabajar en nuevas funciones sin afectar el código principal, y luego fusionarlas cuando estén listas.\n",
    "- Velocidad y eficiencia: Diseñado para ser rápido, incluso con proyectos grandes.\n",
    "Dado tu interés en programación y desarrollo web, aprender Git te puede ayudar a manejar proyectos de manera organizada y profesional.\n"
   ]
  },
  {
   "cell_type": "markdown",
   "id": "21160b8a",
   "metadata": {},
   "source": [
    "Comandos Basicos:\n",
    "Configuración inicial\n",
    "- git config --global user.name \"Tu Nombre\" → Configura tu nombre de usuario.\n",
    "- git config --global user.email \"tu@email.com\" → Configura tu correo electrónico.\n",
    "Trabajando con repositorios\n",
    "- git init → Crea un nuevo repositorio en la carpeta actual.\n",
    "- git clone <URL-del-repositorio> → Clona un repositorio remoto en tu equipo.\n",
    "Seguimiento de cambios\n",
    "- git status → Muestra el estado de los archivos modificados.\n",
    "- git add <archivo> → Agrega archivos específicos al área de preparación.\n",
    "- git add . → Agrega todos los archivos modificados al área de preparación.\n",
    "- git commit -m \"Descripción del cambio\" → Guarda los cambios en el historial con un mensaje descriptivo.\n",
    "- git log → Muestra el historial de cambios.\n",
    "Sincronización con un repositorio remoto\n",
    "- git remote add origin <URL-del-repositorio> → Enlaza tu repositorio local con uno remoto.\n",
    "- git push origin main → Envía los cambios al repositorio remoto.\n",
    "- git pull origin main → Descarga los cambios desde el repositorio remoto.\n",
    "Ramas y colaboración\n",
    "- git branch <nombre-de-la-rama> → Crea una nueva rama.\n",
    "- git checkout <nombre-de-la-rama> → Cambia a una rama existente.\n",
    "- git merge <nombre-de-la-rama> → Fusiona una rama con la rama actual.\n"
   ]
  },
  {
   "cell_type": "markdown",
   "id": "f3356626",
   "metadata": {},
   "source": [
    "¿Que es GITHUB?\n",
    "GitHub es una plataforma de desarrollo colaborativo basada en Git, que permite a los programadores almacenar, gestionar y compartir código de manera eficiente. Es especialmente útil para proyectos de software abiertos y colaborativos.\n",
    "Características principales de GitHub:\n",
    "- Repositorios: Permite alojar código en la nube para acceso desde cualquier lugar.\n",
    "- Control de versiones: Integrado con Git, facilita el seguimiento de cambios y colaboraciones en el código.\n",
    "- Colaboración: Los equipos pueden trabajar juntos en proyectos mediante \"pull requests\" y revisiones de código.\n",
    "- Automatización: Con GitHub Actions, puedes configurar flujos de trabajo automatizados para pruebas y despliegues.\n",
    "- Seguridad y gestión: Ofrece herramientas para gestionar accesos, permisos y seguridad en los proyectos.\n"
   ]
  }
 ],
 "metadata": {
  "language_info": {
   "name": "python"
  }
 },
 "nbformat": 4,
 "nbformat_minor": 5
}

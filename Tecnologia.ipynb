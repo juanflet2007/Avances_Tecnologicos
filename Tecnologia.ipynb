{
 "cells": [
  {
   "cell_type": "markdown",
   "id": "a5769976",
   "metadata": {},
   "source": [
    "¿Que es Cloud Computing?\n",
    "\n",
    "Cloud computing (computación en la nube) es la entrega de servicios informáticos a través de internet en lugar de depender de una infraestructura física local. Esto incluye servidores, almacenamiento, bases de datos, redes y software.\n",
    "Características principales ☁️\n",
    "- Acceso remoto 🌍 → Puedes usar recursos desde cualquier lugar sin instalar software específico.\n",
    "- Escalabilidad 🚀 → Aumenta o reduce la capacidad según las necesidades sin comprar hardware adicional.\n",
    "- Pago por uso 💰 → Solo pagas por los recursos que consumes, optimizando costos.\n",
    "- Seguridad y respaldo 🔒 → Proveedores como AWS, Azure y Google Cloud ofrecen medidas avanzadas de protección.\n",
    "Tipos de Cloud Computing 🔧\n",
    "1️⃣ Infraestructura como Servicio (IaaS) → Hardware virtualizado (como máquinas virtuales).\n",
    "2️⃣ Plataforma como Servicio (PaaS) → Entornos para desarrollar aplicaciones sin administrar servidores.\n",
    "3️⃣ Software como Servicio (SaaS) → Aplicaciones listas para usar, como Gmail o Dropbox."
   ]
  },
  {
   "cell_type": "markdown",
   "id": "5b02159c",
   "metadata": {},
   "source": [
    "¿Que es Machine Learning?\n",
    "\n",
    "Machine Learning (ML) es una rama de la inteligencia artificial que permite a las computadoras aprender a partir de datos sin ser programadas explícitamente. En lugar de seguir reglas fijas, los modelos de ML identifican patrones y mejoran su desempeño con la práctica.\n",
    "¿Cómo funciona?\n",
    "1️⃣ Entrenamiento 🏋️ → Se alimenta al modelo con datos y etiquetas para que aprenda.\n",
    "2️⃣ Predicción 🎯 → Una vez entrenado, el modelo puede hacer inferencias sobre nuevos datos.\n",
    "3️⃣ Mejora continua 🔄 → A medida que recibe más datos, el modelo se ajusta para mejorar su precisión.\n",
    "Tipos de Machine Learning\n",
    "- Aprendizaje supervisado 📊 → El modelo aprende con datos etiquetados (Ej: clasificación de imágenes).\n",
    "- Aprendizaje no supervisado 🔍 → Encuentra patrones en datos sin etiquetas (Ej: agrupación de clientes).\n",
    "- Aprendizaje por refuerzo 🤖 → Mejora su desempeño mediante ensayo y error - (Ej: robots que aprenden a caminar).\n",
    "Ejemplo en Python con Scikit-Learn\n",
    "Aquí tienes un modelo de clasificación básico:"
   ]
  },
  {
   "cell_type": "code",
   "execution_count": null,
   "id": "325e41ca",
   "metadata": {},
   "outputs": [],
   "source": [
    "from sklearn.tree import DecisionTreeClassifier\n",
    "from sklearn.datasets import load_iris\n",
    "from sklearn.model_selection import train_test_split\n",
    "\n",
    "# Cargar datos de ejemplo\n",
    "iris = load_iris()\n",
    "X_train, X_test, y_train, y_test = train_test_split(iris.data, iris.target, test_size=0.2, random_state=42)\n",
    "\n",
    "# Crear y entrenar el modelo\n",
    "modelo = DecisionTreeClassifier()\n",
    "modelo.fit(X_train, y_train)\n",
    "\n",
    "# Hacer una predicción\n",
    "prediccion = modelo.predict(X_test)\n",
    "print(prediccion)"
   ]
  },
  {
   "cell_type": "markdown",
   "id": "d703652d",
   "metadata": {},
   "source": [
    "✅ Salida: Predice la categoría de una flor basándose en sus características."
   ]
  },
  {
   "cell_type": "markdown",
   "id": "2fe26bbc",
   "metadata": {},
   "source": [
    "¿Que es Deep Learning?\n",
    "\n",
    "Deep Learning es un subcampo del Machine Learning que utiliza redes neuronales profundas para analizar datos y tomar decisiones. Se inspira en la estructura del cerebro humano, donde varias capas de neuronas artificiales procesan la información progresivamente.\n",
    "¿Cómo funciona?\n",
    "1️⃣ Capas ocultas 🏗️ → La red está formada por múltiples capas de neuronas.\n",
    "2️⃣ Extracción de características 🔍 → Cada capa aprende aspectos más complejos del problema.\n",
    "3️⃣ Optimización 🚀 → Se ajustan los pesos de las conexiones para mejorar la precisión del modelo.\n",
    "\n",
    "Ejemplo de Deep Learning con TensorFlow (Red Neuronal simple)"
   ]
  },
  {
   "cell_type": "code",
   "execution_count": null,
   "id": "42061f6e",
   "metadata": {},
   "outputs": [],
   "source": [
    "import tensorflow as tf\n",
    "from tensorflow import keras\n",
    "\n",
    "# Definir un modelo de red neuronal\n",
    "modelo = keras.Sequential([\n",
    "    keras.layers.Dense(64, activation='relu', input_shape=(10,)),\n",
    "    keras.layers.Dense(32, activation='relu'),\n",
    "    keras.layers.Dense(1, activation='sigmoid')\n",
    "])\n",
    "\n",
    "# Compilar el modelo\n",
    "modelo.compile(optimizer='adam', loss='binary_crossentropy', metrics=['accuracy'])\n",
    "\n",
    "print(modelo.summary())  # Mostrar la arquitectura del modelo"
   ]
  },
  {
   "cell_type": "markdown",
   "id": "7f60df4d",
   "metadata": {},
   "source": [
    "✅ Este modelo tiene capas densas (Dense) y usa activaciones relu y sigmoid.\n",
    "Aplicaciones de Deep Learning\n",
    "- Visión por computadora 🖼️ → Reconocimiento facial, análisis de imágenes médicas.\n",
    "- Procesamiento de lenguaje natural 🗣️ → Chatbots, traducción automática.\n",
    "- Generación de contenido 🎨 → Creación de imágenes y música con IA.\n",
    "- Robótica e IA avanzada 🤖 → Autos autónomos, robots inteligentes."
   ]
  },
  {
   "cell_type": "markdown",
   "id": "49ba10a5",
   "metadata": {},
   "source": [
    "Las redes neuronales son modelos computacionales inspirados en el funcionamiento del cerebro humano. Están diseñadas para procesar datos de manera jerárquica, aprendiendo patrones y relaciones dentro de la información.\n",
    "Estructura de una red neuronal\n",
    "Una red neuronal está formada por neuronas artificiales, organizadas en capas: 1️⃣ Capa de entrada 🎯 → Recibe los datos iniciales.\n",
    "2️⃣ Capas ocultas 🔄 → Procesan la información y extraen características relevantes.\n",
    "3️⃣ Capa de salida ✅ → Genera el resultado o predicción final.\n",
    "Cada conexión entre neuronas tiene un peso, que se ajusta durante el entrenamiento para mejorar la precisión del modelo.\n",
    "Tipos principales de redes neuronales\n",
    "- Redes Neuronales Artificiales (ANN) 🧠 → Modelo básico usado en clasificación y regresión.\n",
    "- Redes Neuronales Convolucionales (CNN) 🖼️ → Especializadas en reconocimiento de imágenes.\n",
    "- Redes Neuronales Recurrentes (RNN) 🔁 → Útiles en procesamiento de lenguaje natural y series de tiempo.\n",
    "- Transformers ⚡ → Arquitectura avanzada utilizada en modelos de IA como GPT y BERT.\n",
    "\n",
    "Ejemplo en Python con TensorFlow\n",
    "\n",
    "Aquí tienes cómo definir una red neuronal simple con Keras:\n"
   ]
  },
  {
   "cell_type": "code",
   "execution_count": null,
   "id": "13727a96",
   "metadata": {},
   "outputs": [],
   "source": [
    "import tensorflow as tf\n",
    "from tensorflow import keras\n",
    "\n",
    "# Definir modelo con una capa oculta\n",
    "modelo = keras.Sequential([\n",
    "    keras.layers.Dense(64, activation='relu', input_shape=(10,)),\n",
    "    keras.layers.Dense(1, activation='sigmoid')\n",
    "])\n",
    "\n",
    "modelo.compile(optimizer='adam', loss='binary_crossentropy', metrics=['accuracy'])\n",
    "print(modelo.summary())  # Muestra la arquitectura"
   ]
  },
  {
   "cell_type": "markdown",
   "id": "23541f28",
   "metadata": {},
   "source": [
    "✅ Este modelo tiene una capa oculta con 64 neuronas y una salida para clasificación binaria."
   ]
  },
  {
   "cell_type": "markdown",
   "id": "22e811dd",
   "metadata": {},
   "source": [
    "La inteligencia artificial (IA) es la capacidad de las máquinas para realizar tareas que normalmente requieren inteligencia humana, como el aprendizaje, la percepción y la toma de decisiones. Se basa en algoritmos que procesan datos y mejoran su rendimiento con el tiempo.\n",
    "Tipos de IA\n",
    "1️⃣ IA Débil (Narrow AI) → Diseñada para realizar tareas específicas, como reconocimiento facial o chatbots.\n",
    "2️⃣ IA Fuerte (General AI) → En teoría, podría razonar y aprender como un ser humano (aún en desarrollo).\n",
    "3️⃣ Superinteligencia Artificial 🤯 → Un concepto futurista donde la IA supera la inteligencia humana.\n",
    "Áreas clave en IA\n",
    "- Machine Learning 📊 → Aprende patrones a partir de datos (Ej: recomendaciones de Netflix).\n",
    "- Deep Learning 🧠 → Usa redes neuronales profundas para procesamiento avanzado (Ej: asistentes de voz).\n",
    "- Visión por Computadora 🖼️ → Analiza imágenes y videos (Ej: reconocimiento de objetos).\n",
    "- Procesamiento de Lenguaje Natural (NLP) 🗣️ → Comprende y genera texto (Ej: traductores automáticos).\n"
   ]
  }
 ],
 "metadata": {
  "kernelspec": {
   "display_name": "Python 3",
   "language": "python",
   "name": "python3"
  },
  "language_info": {
   "codemirror_mode": {
    "name": "ipython",
    "version": 3
   },
   "file_extension": ".py",
   "mimetype": "text/x-python",
   "name": "python",
   "nbconvert_exporter": "python",
   "pygments_lexer": "ipython3",
   "version": "3.11.9"
  }
 },
 "nbformat": 4,
 "nbformat_minor": 5
}

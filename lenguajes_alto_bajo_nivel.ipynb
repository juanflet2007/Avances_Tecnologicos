{
 "cells": [
  {
   "cell_type": "markdown",
   "id": "30d1ad2a",
   "metadata": {},
   "source": [
    "Lenguajes de alto nivel 🖥️\n",
    "Son más fáciles de leer, escribir y entender porque usan una sintaxis más cercana al lenguaje natural. Se ocupan de muchas tareas automáticamente, como la gestión de memoria.\n",
    "Ejemplos:\n",
    "- Python 🐍 → Usado en desarrollo web, inteligencia artificial y análisis de datos.\n",
    "- JavaScript 🌐 → Ideal para desarrollo web interactivo.\n",
    "- Java ☕ → Ampliamente usado en aplicaciones empresariales y móviles.\n",
    "- C# 🎮 → Popular en desarrollo de videojuegos con Unity.\n",
    "- Swift 🍏 → Lenguaje para desarrollo en iOS.\n",
    "✅ Ventajas:\n",
    "- Más fácil de aprender y escribir.\n",
    "- Código más portable entre diferentes sistemas.\n",
    "- Posee abstracciones que facilitan el desarrollo.\n",
    "\n",
    "Ejemplo de lenguaje de alto nivel (Python)\n",
    "Imagina que quieres analizar datos de una encuesta. Con Python y la librería pandas, puedes hacerlo fácilmente:\n"
   ]
  },
  {
   "cell_type": "code",
   "execution_count": null,
   "id": "3fbadb45",
   "metadata": {},
   "outputs": [],
   "source": [
    "import pandas as pd\n",
    "\n",
    "# Crear un DataFrame con respuestas de una encuesta\n",
    "datos = {\"Nombre\": [\"Ana\", \"Carlos\", \"Luis\"],\n",
    "         \"Edad\": [25, 30, 22],\n",
    "         \"Satisfecho\": [True, False, True]}\n",
    "\n",
    "df = pd.DataFrame(datos)\n",
    "\n",
    "# Mostrar estadísticas básicas\n",
    "print(df.describe())"
   ]
  },
  {
   "cell_type": "markdown",
   "id": "f672251e",
   "metadata": {},
   "source": [
    "✅ Ventajas: Código fácil de leer y mantener, sin preocuparse por la administración de memoria.\n"
   ]
  },
  {
   "cell_type": "markdown",
   "id": "ea95be63",
   "metadata": {},
   "source": [
    "Lenguajes de bajo nivel ⚙️\n",
    "Están más cerca del hardware, lo que permite mayor control sobre el sistema. Son más difíciles de programar pero ofrecen mejor rendimiento.\n",
    "Ejemplos:\n",
    "- C 🔧 → Usado en sistemas operativos y desarrollo de hardware.\n",
    "- Assembly 🏗️ → Lenguaje ensamblador, más cercano al lenguaje de máquina.\n",
    "- Rust 🔥 → Optimizado para seguridad y rendimiento en sistemas críticos.\n",
    "✅ Ventajas:\n",
    "- Más rápido y eficiente.\n",
    "- Mayor control sobre la memoria y el hardware.\n",
    "- Ideal para sistemas donde el rendimiento es clave.\n",
    "\n",
    "Ejemplo de lenguaje de bajo nivel (C)\n",
    "Si necesitas escribir un programa que manipule directamente la memoria, podrías hacerlo en C:"
   ]
  },
  {
   "cell_type": "code",
   "execution_count": null,
   "id": "0c8e8ea5",
   "metadata": {},
   "outputs": [],
   "source": [
    "#include <stdio.h>\n",
    "\n",
    "int main() {\n",
    "    int numero = 10;\n",
    "    int *puntero = &numero; // Guardar dirección de memoria\n",
    "\n",
    "    printf(\"Valor: %d\\n\", numero);\n",
    "    printf(\"Dirección de memoria: %p\\n\", puntero);\n",
    "\n",
    "    return 0;\n",
    "}"
   ]
  },
  {
   "cell_type": "markdown",
   "id": "7a437fd5",
   "metadata": {},
   "source": [
    "✅ Ventajas: Control directo sobre la memoria, ideal para sistemas embebidos o de alto rendimiento.\n"
   ]
  }
 ],
 "metadata": {
  "kernelspec": {
   "display_name": "Python 3",
   "language": "python",
   "name": "python3"
  },
  "language_info": {
   "codemirror_mode": {
    "name": "ipython",
    "version": 3
   },
   "file_extension": ".py",
   "mimetype": "text/x-python",
   "name": "python",
   "nbconvert_exporter": "python",
   "pygments_lexer": "ipython3",
   "version": "3.11.9"
  }
 },
 "nbformat": 4,
 "nbformat_minor": 5
}

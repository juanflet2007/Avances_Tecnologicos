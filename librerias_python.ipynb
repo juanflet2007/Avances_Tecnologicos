{
 "cells": [
  {
   "cell_type": "markdown",
   "id": "afd5051c",
   "metadata": {},
   "source": [
    "1. math – Operaciones matemáticas básicas\n",
    "Esta librería proporciona funciones matemáticas estándar como raíces cuadradas, trigonometría y exponenciales.\n"
   ]
  },
  {
   "cell_type": "code",
   "execution_count": null,
   "id": "ea6bf773",
   "metadata": {},
   "outputs": [],
   "source": [
    "import math\n",
    "\n",
    "print(math.sqrt(25))  # Resultado: 5.0"
   ]
  },
  {
   "cell_type": "markdown",
   "id": "efd9a059",
   "metadata": {},
   "source": [
    "2. pandas – Manipulación de datos\n",
    "Pandas es fundamental para trabajar con estructuras de datos tabulares como DataFrames y Series.\n"
   ]
  },
  {
   "cell_type": "code",
   "execution_count": null,
   "id": "69de9135",
   "metadata": {},
   "outputs": [],
   "source": [
    "import pandas as pd\n",
    "\n",
    "data = {'Nombre': ['Ana', 'Luis', 'Pedro'], 'Edad': [28, 34, 21]}\n",
    "df = pd.DataFrame(data)\n",
    "print(df)"
   ]
  },
  {
   "cell_type": "markdown",
   "id": "a211fa68",
   "metadata": {},
   "source": [
    "3. tensorflow – Aprendizaje automático y redes neuronales\n",
    "TensorFlow es utilizado en aprendizaje profundo y procesamiento de datos.\n"
   ]
  },
  {
   "cell_type": "code",
   "execution_count": null,
   "id": "d7c6a00d",
   "metadata": {},
   "outputs": [],
   "source": [
    "import tensorflow as tf\n",
    "\n",
    "x = tf.constant([1, 2, 3])\n",
    "print(tf.reduce_sum(x))  # Resultado: 6"
   ]
  },
  {
   "cell_type": "markdown",
   "id": "c7f6adff",
   "metadata": {},
   "source": [
    "4. pytorch – Redes neuronales dinámicas\n",
    "PyTorch es una alternativa a TensorFlow, conocida por su flexibilidad en aprendizaje profundo.\n",
    "\n",
    "\n",
    "\n",
    "\n"
   ]
  },
  {
   "cell_type": "code",
   "execution_count": null,
   "id": "6c5e23e4",
   "metadata": {},
   "outputs": [],
   "source": [
    "import torch\n",
    "\n",
    "x = torch.tensor([1.0, 2.0, 3.0])\n",
    "print(torch.sum(x))  # Resultado: tensor(6.)"
   ]
  },
  {
   "cell_type": "markdown",
   "id": "c61c80cd",
   "metadata": {},
   "source": [
    "5. matplotlib – Visualización de datos\n",
    "Permite crear gráficos para explorar datos y tendencias.\n"
   ]
  },
  {
   "cell_type": "code",
   "execution_count": null,
   "id": "b72efd3b",
   "metadata": {},
   "outputs": [],
   "source": [
    "import matplotlib.pyplot as plt\n",
    "\n",
    "x = [1, 2, 3, 4]\n",
    "y = [10, 20, 25, 30]\n",
    "\n",
    "plt.plot(x, y)\n",
    "plt.show()"
   ]
  },
  {
   "cell_type": "markdown",
   "id": "f40ff644",
   "metadata": {},
   "source": [
    "6. seaborn – Visualizaciones estadísticas avanzadas\n",
    "Seaborn complementa Matplotlib con gráficos más estilizados y listos para análisis.\n"
   ]
  },
  {
   "cell_type": "code",
   "execution_count": null,
   "id": "8365b711",
   "metadata": {},
   "outputs": [],
   "source": [
    "import seaborn as sns\n",
    "import pandas as pd\n",
    "\n",
    "df = pd.DataFrame({'x': [1, 2, 3, 4], 'y': [10, 20, 25, 30]})\n",
    "sns.lineplot(x='x', y='y', data=df)"
   ]
  },
  {
   "cell_type": "markdown",
   "id": "b1faa0d6",
   "metadata": {},
   "source": [
    "7. scikit-learn – Machine Learning en Python\n",
    "Ofrece algoritmos de clasificación, regresión y agrupamiento.\n"
   ]
  },
  {
   "cell_type": "code",
   "execution_count": null,
   "id": "df53fce4",
   "metadata": {},
   "outputs": [],
   "source": [
    "from sklearn.linear_model import LinearRegression\n",
    "import numpy as np\n",
    "\n",
    "X = np.array([[1], [2], [3], [4]])\n",
    "y = np.array([10, 20, 30, 40])\n",
    "\n",
    "model = LinearRegression()\n",
    "model.fit(X, y)\n",
    "print(model.predict([[5]]))  # Predicción para x = 5"
   ]
  }
 ],
 "metadata": {
  "kernelspec": {
   "display_name": "Python 3",
   "language": "python",
   "name": "python3"
  },
  "language_info": {
   "codemirror_mode": {
    "name": "ipython",
    "version": 3
   },
   "file_extension": ".py",
   "mimetype": "text/x-python",
   "name": "python",
   "nbconvert_exporter": "python",
   "pygments_lexer": "ipython3",
   "version": "3.11.9"
  }
 },
 "nbformat": 4,
 "nbformat_minor": 5
}
